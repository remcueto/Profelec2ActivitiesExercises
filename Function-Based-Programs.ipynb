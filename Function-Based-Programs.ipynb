{
 "cells": [
  {
   "cell_type": "code",
   "execution_count": 16,
   "id": "3ee5befa-b7ea-4f82-8a98-d300dc084a7c",
   "metadata": {},
   "outputs": [
    {
     "name": "stdin",
     "output_type": "stream",
     "text": [
      "Enter the first number:  22\n",
      "Enter the second number:  35\n",
      "Enter the third number:  44\n"
     ]
    },
    {
     "name": "stdout",
     "output_type": "stream",
     "text": [
      "Total: 101.00\n",
      "Average: 33.67\n"
     ]
    }
   ],
   "source": [
    "#PROGRAMMING PROBLEM 1:\n",
    "def calculate_total_and_average():\n",
    "    num1 = float(input(\"Enter the first number: \"))\n",
    "    num2 = float(input(\"Enter the second number: \"))\n",
    "    num3 = float(input(\"Enter the third number: \"))\n",
    "    \n",
    "    total = num1 + num2 + num3\n",
    "    average = total / 3\n",
    "    \n",
    "    print(\"Total: {:.2f}\".format(total))\n",
    "    print(\"Average: {:.2f}\".format(average))\n",
    "\n",
    "calculate_total_and_average()\n"
   ]
  },
  {
   "cell_type": "code",
   "execution_count": 17,
   "id": "2d9988c9-b8e2-4a54-a0be-8abc409b791b",
   "metadata": {},
   "outputs": [
    {
     "name": "stdin",
     "output_type": "stream",
     "text": [
      "Enter the price of the meal:  169\n",
      "Enter the percentage tip you want to leave:  30\n"
     ]
    },
    {
     "name": "stdout",
     "output_type": "stream",
     "text": [
      "Tip amount: 50\n",
      "Total bill with tip: 219\n"
     ]
    }
   ],
   "source": [
    "#PROGRAMMING PROBLEM 2:\n",
    "def calculate_tip_and_total():\n",
    "    price = float(input(\"Enter the price of the meal: \"))\n",
    "    tip_percent = float(input(\"Enter the percentage tip you want to leave: \"))\n",
    "    \n",
    "    tip_amount = (tip_percent / 100) * price\n",
    "    total_bill = price + tip_amount\n",
    "    \n",
    "    print(\"Tip amount: %d\" % tip_amount)\n",
    "    print(\"Total bill with tip: %d\" % total_bill)\n",
    "\n",
    "calculate_tip_and_total()\n"
   ]
  },
  {
   "cell_type": "code",
   "execution_count": 18,
   "id": "e2cc2c6e-5676-444d-abf2-4b609743497f",
   "metadata": {},
   "outputs": [
    {
     "name": "stdin",
     "output_type": "stream",
     "text": [
      "Enter length in centimeters:  170\n"
     ]
    },
    {
     "name": "stdout",
     "output_type": "stream",
     "text": [
      "Length in inches: 66.93\n"
     ]
    }
   ],
   "source": [
    "#PROGRAMMING PROBLEM 3:\n",
    "def convert_cm_to_inches():\n",
    "    length_cm = float(input(\"Enter length in centimeters: \"))\n",
    "    \n",
    "    if length_cm < 0:\n",
    "        print(\"Invalid entry\")\n",
    "    else:\n",
    "        length_inches = length_cm / 2.54\n",
    "        print(\"Length in inches: {:.2f}\".format(length_inches))\n",
    "\n",
    "convert_cm_to_inches()\n"
   ]
  },
  {
   "cell_type": "code",
   "execution_count": 19,
   "id": "170f5fd1-69bd-496c-9128-71f9c6734365",
   "metadata": {},
   "outputs": [
    {
     "name": "stdin",
     "output_type": "stream",
     "text": [
      "Enter the radius of the cylinder:  6\n",
      "Enter the length of the cylinder:  15\n"
     ]
    },
    {
     "name": "stdout",
     "output_type": "stream",
     "text": [
      "Area: 113.09733552923255\n",
      "Volume: 1696.4600329384882\n"
     ]
    }
   ],
   "source": [
    "#PROGRAMMING PROBLEM4:\n",
    "import math\n",
    "\n",
    "def calculate_cylinder_volume(radius, length):\n",
    "    area = radius * radius * math.pi\n",
    "    volume = area * length\n",
    "    return area, volume\n",
    "\n",
    "radius = float(input(\"Enter the radius of the cylinder: \"))\n",
    "length = float(input(\"Enter the length of the cylinder: \"))\n",
    "\n",
    "area, volume = calculate_cylinder_volume(radius, length)\n",
    "print(\"Area:\", area)\n",
    "print(\"Volume:\", volume)\n"
   ]
  },
  {
   "cell_type": "code",
   "execution_count": 20,
   "id": "357e96e0-e08c-42fe-82b6-1dad497c9fe5",
   "metadata": {},
   "outputs": [
    {
     "name": "stdin",
     "output_type": "stream",
     "text": [
      "Enter length in feet:  16\n"
     ]
    },
    {
     "name": "stdout",
     "output_type": "stream",
     "text": [
      "Length in meters: 4\n"
     ]
    }
   ],
   "source": [
    "#PROGRAMMING PROBLEM 5:\n",
    "def convert_feet_to_meters():\n",
    "    feet = float(input(\"Enter length in feet: \"))\n",
    "    meters = feet * 0.305\n",
    "    print(\"Length in meters: %d\" % meters)\n",
    "\n",
    "convert_feet_to_meters()\n"
   ]
  },
  {
   "cell_type": "code",
   "execution_count": 23,
   "id": "009652a2-0b8a-42a2-acef-94235ca42861",
   "metadata": {},
   "outputs": [
    {
     "name": "stdin",
     "output_type": "stream",
     "text": [
      "Enter weight in pounds:  137\n"
     ]
    },
    {
     "name": "stdout",
     "output_type": "stream",
     "text": [
      "Weight in kilograms: 62.20\n"
     ]
    }
   ],
   "source": [
    "#PROGRAMMING PROBLEM 6:\n",
    "def convert_pounds_to_kilograms():\n",
    "    pounds = float(input(\"Enter weight in pounds: \"))\n",
    "    kilograms = pounds * 0.454\n",
    "    print(\"Weight in kilograms: {:.2f}\".format(kilograms))\n",
    "\n",
    "convert_pounds_to_kilograms()\n"
   ]
  },
  {
   "cell_type": "code",
   "execution_count": 24,
   "id": "c9cdf1fb-cefc-4311-a9d1-f428c3b7bf61",
   "metadata": {},
   "outputs": [
    {
     "name": "stdin",
     "output_type": "stream",
     "text": [
      "Enter password:  profelec2jupyter\n"
     ]
    },
    {
     "name": "stdout",
     "output_type": "stream",
     "text": [
      "Incorrect password\n"
     ]
    },
    {
     "name": "stdin",
     "output_type": "stream",
     "text": [
      "Enter password:  password\n"
     ]
    },
    {
     "name": "stdout",
     "output_type": "stream",
     "text": [
      "Incorrect password\n"
     ]
    },
    {
     "name": "stdin",
     "output_type": "stream",
     "text": [
      "Enter password:  password123\n"
     ]
    },
    {
     "name": "stdout",
     "output_type": "stream",
     "text": [
      "Logged in to the system\n"
     ]
    }
   ],
   "source": [
    "#PROGRAMMING PROBLEM 9:\n",
    "def login_system():\n",
    "    password = \"password123\"\n",
    "    for _ in range(5):\n",
    "        user_input = input(\"Enter password: \")\n",
    "        if user_input == password:\n",
    "            print(\"Logged in to the system\")\n",
    "            return\n",
    "        else:\n",
    "            print(\"Incorrect password\")\n",
    "    print(\"You are kicked off the system\")\n",
    "\n",
    "login_system()\n"
   ]
  },
  {
   "cell_type": "code",
   "execution_count": 25,
   "id": "bd710aa0-79ed-4018-907b-698969cc8495",
   "metadata": {},
   "outputs": [
    {
     "name": "stdin",
     "output_type": "stream",
     "text": [
      "Enter weight in kilograms:  62\n"
     ]
    },
    {
     "name": "stdout",
     "output_type": "stream",
     "text": [
      "Weight in pounds: 136.68643999999998\n"
     ]
    }
   ],
   "source": [
    "#PROGRAMMING PROBLEM 10:\n",
    "def convert_kg_to_pounds():\n",
    "    while True:\n",
    "        weight = float(input(\"Enter weight in kilograms: \"))\n",
    "        if weight >= 0:\n",
    "            pounds = weight * 2.20462\n",
    "            print(\"Weight in pounds:\", pounds)\n",
    "            break\n",
    "        else:\n",
    "            print(\"Invalid entry. Weight must be non-negative.\")\n",
    "\n",
    "convert_kg_to_pounds()\n"
   ]
  },
  {
   "cell_type": "code",
   "execution_count": 27,
   "id": "102adca1-e300-4595-9943-0878717993d4",
   "metadata": {},
   "outputs": [
    {
     "name": "stdin",
     "output_type": "stream",
     "text": [
      "Enter grade for subject 1:  92\n",
      "Enter grade for subject 2:  95\n",
      "Enter grade for subject 3:  94\n",
      "Enter grade for subject 4:  95\n",
      "Enter grade for subject 5:  90\n"
     ]
    },
    {
     "name": "stdout",
     "output_type": "stream",
     "text": [
      "Average grade: 93.20\n"
     ]
    }
   ],
   "source": [
    "#PROGRAMMING PROBLEM 11:\n",
    "def calculate_average_grade():\n",
    "    grades = []\n",
    "    for i in range(1, 6):\n",
    "        grade = float(input(\"Enter grade for subject {}: \".format(i)))\n",
    "        grades.append(grade)\n",
    "    \n",
    "    average_grade = sum(grades) / len(grades)\n",
    "    print(\"Average grade: {:.2f}\".format(average_grade))\n",
    "\n",
    "calculate_average_grade()\n"
   ]
  },
  {
   "cell_type": "code",
   "execution_count": 30,
   "id": "49644e4d-f0e9-400d-a50e-e11991f1f346",
   "metadata": {},
   "outputs": [
    {
     "name": "stdin",
     "output_type": "stream",
     "text": [
      "Enter amount in peso:  1000000\n"
     ]
    },
    {
     "name": "stdout",
     "output_type": "stream",
     "text": [
      "Amount in dollar: 20618\n"
     ]
    }
   ],
   "source": [
    "#PROGRAMMING PROBLEM 12:\n",
    "def convert_peso_to_dollar():\n",
    "    peso = float(input(\"Enter amount in peso: \"))\n",
    "    dollar = peso / 48.50  # Assuming 1 dollar = 48.50 pesos\n",
    "    print(\"Amount in dollar: %d\" % dollar)\n",
    "\n",
    "convert_peso_to_dollar()\n"
   ]
  },
  {
   "cell_type": "code",
   "execution_count": 31,
   "id": "48378da6-de15-49b9-962a-c0b9252646d1",
   "metadata": {},
   "outputs": [
    {
     "name": "stdin",
     "output_type": "stream",
     "text": [
      "Employee's name:  Anne\n",
      "Number of hours worked in a week:  48\n",
      "Hourly pay rate:  110\n"
     ]
    },
    {
     "name": "stdout",
     "output_type": "stream",
     "text": [
      "Gross Pay: 5280.00\n",
      "Deductions: 0.00\n",
      "Net Pay: 5280.00\n"
     ]
    }
   ],
   "source": [
    "#PROGRAMMING PROBLEM 13:\n",
    "def calculate_payroll():\n",
    "    name = input(\"Employee's name: \")\n",
    "    hours_worked = float(input(\"Number of hours worked in a week: \"))\n",
    "    hourly_rate = float(input(\"Hourly pay rate: \"))\n",
    "    \n",
    "    gross_pay = hours_worked * hourly_rate\n",
    "    deductions = 0  # Placeholder for deductions\n",
    "    net_pay = gross_pay - deductions\n",
    "    \n",
    "    print(\"Gross Pay: {:.2f}\".format(gross_pay))\n",
    "    print(\"Deductions: {:.2f}\".format(deductions))\n",
    "    print(\"Net Pay: {:.2f}\".format(net_pay))\n",
    "\n",
    "calculate_payroll()\n"
   ]
  },
  {
   "cell_type": "code",
   "execution_count": 32,
   "id": "4c2ce961-76c5-44f6-bafb-cbf1f91b75e1",
   "metadata": {},
   "outputs": [
    {
     "name": "stdin",
     "output_type": "stream",
     "text": [
      "Enter a string:  uoyevoli\n"
     ]
    },
    {
     "name": "stdout",
     "output_type": "stream",
     "text": [
      "Reversed string: iloveyou\n"
     ]
    }
   ],
   "source": [
    "#PROGRAMMING PROBLEM 14:\n",
    "def reverse_string(string):\n",
    "    return string[::-1]\n",
    "\n",
    "user_input = input(\"Enter a string: \")\n",
    "reversed_string = reverse_string(user_input)\n",
    "print(\"Reversed string:\", reversed_string)\n"
   ]
  },
  {
   "cell_type": "code",
   "execution_count": 33,
   "id": "1ff852c6-e316-4c68-9da3-e677c4bde281",
   "metadata": {},
   "outputs": [
    {
     "name": "stdout",
     "output_type": "stream",
     "text": [
      "Even numbers: [4, 78, 66, 56, 2]\n"
     ]
    }
   ],
   "source": [
    "#PROGRAMMING PROBLEM 15:\n",
    "def print_even_numbers(lst):\n",
    "    even_numbers = [num for num in lst if num % 2 == 0]\n",
    "    print(\"Even numbers:\", even_numbers)\n",
    "\n",
    "L = [4, 78, 23, 66, 23, 89, 56, 21, 2]\n",
    "print_even_numbers(L)\n"
   ]
  },
  {
   "cell_type": "code",
   "execution_count": 37,
   "id": "138bc77f-9875-41e7-ab14-92f21d57c726",
   "metadata": {},
   "outputs": [
    {
     "name": "stdin",
     "output_type": "stream",
     "text": [
      "Enter a string to check if it's a palindrome:  madam\n"
     ]
    },
    {
     "name": "stdout",
     "output_type": "stream",
     "text": [
      "The string is a palindrome\n"
     ]
    }
   ],
   "source": [
    "#PROGRAMMING PROBLEM 16:\n",
    "def is_palindrome(string):\n",
    "    return string == string[::-1]\n",
    "\n",
    "test_string = input(\"Enter a string to check if it's a palindrome: \")\n",
    "if is_palindrome(test_string):\n",
    "    print(\"The string is a palindrome\")\n",
    "else:\n",
    "    print(\"The string is not a palindrome\")\n"
   ]
  },
  {
   "cell_type": "code",
   "execution_count": 38,
   "id": "857729e5-b1e0-4d12-9c0e-106994604dee",
   "metadata": {},
   "outputs": [
    {
     "name": "stdout",
     "output_type": "stream",
     "text": [
      "Largest item: 24\n"
     ]
    }
   ],
   "source": [
    "#PROGRAMMING PROBLEM 17:\n",
    "def find_largest_item(lst):\n",
    "    return max(lst)\n",
    "\n",
    "x = [4, 6, 8, 24, 12, 2]\n",
    "largest_item = find_largest_item(x)\n",
    "print(\"Largest item:\", largest_item)\n"
   ]
  },
  {
   "cell_type": "code",
   "execution_count": 39,
   "id": "834f7821-1da5-4e14-a2cc-7e57c37bc7b2",
   "metadata": {},
   "outputs": [
    {
     "name": "stdin",
     "output_type": "stream",
     "text": [
      "Enter a number:  1453\n"
     ]
    },
    {
     "name": "stdout",
     "output_type": "stream",
     "text": [
      "1453 is not even\n"
     ]
    }
   ],
   "source": [
    "#PROGRAMMING PROBLEM 18:\n",
    "def even(number):\n",
    "    return number % 2 == 0\n",
    "\n",
    "number = int(input(\"Enter a number: \"))\n",
    "if even(number):\n",
    "    print(\"{} is even\".format(number))\n",
    "else:\n",
    "    print(\"{} is not even\".format(number))\n"
   ]
  },
  {
   "cell_type": "code",
   "execution_count": 41,
   "id": "8dd233a3-8327-4859-bccc-8f5dfbf4c12e",
   "metadata": {},
   "outputs": [
    {
     "name": "stdin",
     "output_type": "stream",
     "text": [
      "Enter the lower bound:  4\n",
      "Enter the upper bound:  11\n"
     ]
    },
    {
     "name": "stdout",
     "output_type": "stream",
     "text": [
      "Sum of numbers between 4 and 11: 60\n"
     ]
    }
   ],
   "source": [
    "#PROGRAMMING PROBLEM 19:\n",
    "def sum_numbers(low, high):\n",
    "    return sum(range(low, high + 1))\n",
    "\n",
    "low = int(input(\"Enter the lower bound: \"))\n",
    "high = int(input(\"Enter the upper bound: \"))\n",
    "result = sum_numbers(low, high)\n",
    "print(\"Sum of numbers between {} and {}: {}\".format(low, high, result))\n"
   ]
  },
  {
   "cell_type": "code",
   "execution_count": 48,
   "id": "16b6e3d8-1abe-4b00-bf6b-3eedd2cdf66c",
   "metadata": {},
   "outputs": [
    {
     "name": "stdin",
     "output_type": "stream",
     "text": [
      "Enter a number:  29.5\n"
     ]
    },
    {
     "name": "stdout",
     "output_type": "stream",
     "text": [
      "f_1(29.5) = 34.5, f_2(29.5) = 69.0\n"
     ]
    }
   ],
   "source": [
    "#PROGRAMMING PROBLEM 20:\n",
    "def f_1(number):\n",
    "    return number + 5\n",
    "\n",
    "def f_2(number):\n",
    "    return f_1(number) * 2\n",
    "\n",
    "num = float(input(\"Enter a number: \"))\n",
    "result_f1 = f_1(num)\n",
    "result_f2 = f_2(num)\n",
    "print(\"f_1({}) = {}, f_2({}) = {}\".format(num, result_f1, num, result_f2))\n"
   ]
  },
  {
   "cell_type": "code",
   "execution_count": 49,
   "id": "f363faca-b937-4667-a1f5-ba1d19becde2",
   "metadata": {},
   "outputs": [
    {
     "name": "stdout",
     "output_type": "stream",
     "text": [
      "Sum of all numbers: 362\n"
     ]
    }
   ],
   "source": [
    "#PROGRAMMING PROBLEM 21:\n",
    "def sum_all_numbers(lst):\n",
    "    return sum(lst)\n",
    "\n",
    "L = [4, 78, 23, 66, 23, 89, 56, 21, 2]\n",
    "result = sum_all_numbers(L)\n",
    "print(\"Sum of all numbers:\", result)\n"
   ]
  },
  {
   "cell_type": "code",
   "execution_count": 50,
   "id": "cd588c11-17d6-40e5-9746-9937e9f2302e",
   "metadata": {},
   "outputs": [
    {
     "name": "stdout",
     "output_type": "stream",
     "text": [
      "Product of all numbers: 2280245071104\n"
     ]
    }
   ],
   "source": [
    "#PROGRAMMING PROBLEM 22:\n",
    "def multiply_all_numbers(lst):\n",
    "    result = 1\n",
    "    for num in lst:\n",
    "        result *= num\n",
    "    return result\n",
    "\n",
    "L = [4, 78, 23, 66, 23, 89, 56, 21, 2]\n",
    "result = multiply_all_numbers(L)\n",
    "print(\"Product of all numbers:\", result)\n"
   ]
  },
  {
   "cell_type": "code",
   "execution_count": 51,
   "id": "b91731bf-a4f9-4120-bf75-431d665cb08e",
   "metadata": {},
   "outputs": [
    {
     "name": "stdin",
     "output_type": "stream",
     "text": [
      "Enter number of nights:  6\n"
     ]
    },
    {
     "name": "stdout",
     "output_type": "stream",
     "text": [
      "Total hotel cost: 840\n"
     ]
    }
   ],
   "source": [
    "#PROGRAMMING PROBLEM 23:\n",
    "def hotel_cost(nights):\n",
    "    return 140 * nights\n",
    "\n",
    "num_nights = int(input(\"Enter number of nights: \"))\n",
    "total_cost = hotel_cost(num_nights)\n",
    "print(\"Total hotel cost:\", total_cost)\n"
   ]
  },
  {
   "cell_type": "code",
   "execution_count": 52,
   "id": "b5f86073-be49-490f-9b1f-f532feca6030",
   "metadata": {},
   "outputs": [
    {
     "name": "stdin",
     "output_type": "stream",
     "text": [
      "Enter destination country:  Canada\n"
     ]
    },
    {
     "name": "stdout",
     "output_type": "stream",
     "text": [
      "Round-trip price to Canada: 22200\n"
     ]
    }
   ],
   "source": [
    "#PROGRAMMING PROBLEM 24:\n",
    "def plane_ride_cost(country):\n",
    "    prices = {\n",
    "        \"Japan\": 18300,\n",
    "        \"South Korea\": 22000,\n",
    "        \"Canada\": 22200,\n",
    "        \"Los Angeles\": 47500\n",
    "    }\n",
    "    return prices.get(country, \"Invalid country\")\n",
    "\n",
    "destination = input(\"Enter destination country: \")\n",
    "cost = plane_ride_cost(destination)\n",
    "print(\"Round-trip price to {}: {}\".format(destination, cost))\n"
   ]
  },
  {
   "cell_type": "code",
   "execution_count": 53,
   "id": "d49e6782-5146-402d-ad9a-bf7d79efe713",
   "metadata": {},
   "outputs": [
    {
     "name": "stdin",
     "output_type": "stream",
     "text": [
      "Enter 'yes' or 'no':  no\n"
     ]
    },
    {
     "name": "stdout",
     "output_type": "stream",
     "text": [
      "Shutdown aborted\n"
     ]
    }
   ],
   "source": [
    "#PROGRAMMING PROBLEM 25:\n",
    "def shut_down(s):\n",
    "    if s == \"yes\":\n",
    "        return \"Shutting down\"\n",
    "    elif s == \"no\":\n",
    "        return \"Shutdown aborted\"\n",
    "    else:\n",
    "        return \"Sorry\"\n",
    "\n",
    "user_input = input(\"Enter 'yes' or 'no': \")\n",
    "print(shut_down(user_input))\n"
   ]
  },
  {
   "cell_type": "code",
   "execution_count": 54,
   "id": "76f85237-e44e-4a98-aab7-76e9ba7b7d34",
   "metadata": {},
   "outputs": [
    {
     "name": "stdout",
     "output_type": "stream",
     "text": [
      "Squares list: [1, 4, 9, 16, 25, 36, 49, 64, 81, 100, 121, 144, 169, 196, 225, 256, 289, 324, 361, 400, 441, 484, 529, 576, 625, 676, 729, 784, 841, 900]\n"
     ]
    }
   ],
   "source": [
    "#PROGRAMMING PROBLEM 26:\n",
    "def create_squares_list():\n",
    "    return [num**2 for num in range(1, 31)]\n",
    "\n",
    "squares_list = create_squares_list()\n",
    "print(\"Squares list:\", squares_list)\n"
   ]
  },
  {
   "cell_type": "code",
   "execution_count": null,
   "id": "e54fb20b-2f08-4169-bc11-f1a14ff0e90f",
   "metadata": {},
   "outputs": [],
   "source": []
  }
 ],
 "metadata": {
  "kernelspec": {
   "display_name": "Python 3 (ipykernel)",
   "language": "python",
   "name": "python3"
  },
  "language_info": {
   "codemirror_mode": {
    "name": "ipython",
    "version": 3
   },
   "file_extension": ".py",
   "mimetype": "text/x-python",
   "name": "python",
   "nbconvert_exporter": "python",
   "pygments_lexer": "ipython3",
   "version": "3.11.7"
  }
 },
 "nbformat": 4,
 "nbformat_minor": 5
}
